{
 "cells": [
  {
   "cell_type": "code",
   "execution_count": null,
   "metadata": {},
   "outputs": [],
   "source": [
    "!pip install selenium\n",
    "!pip install webdriver-manager"
   ]
  },
  {
   "cell_type": "code",
   "execution_count": null,
   "metadata": {},
   "outputs": [],
   "source": [
    "import requests\n",
    "from bs4 import BeautifulSoup\n",
    "\n",
    "# 논문 구분(학위, 학술지), 논문명, 연도, 초록 요약, detail_links \n",
    "\n",
    "keyword='자연어'\n",
    "inner_links=[]\n",
    "deg_links=[]\n",
    "thesis_infos=[]\n",
    "\n",
    "\n",
    "##학술지\n",
    "for page in range(46):\n",
    "    in_the='''http://www.riss.kr/search/Search.do?detailSearch=false&searchGubun=true&query='''+keyword+'''\n",
    "              &colName=re_a_kor&pageScale=20&iStartCount='''+str(20*page)+'''&searchGubun=true'''\n",
    "\n",
    "    req_in=requests.get(in_the).content\n",
    "    soup_in=BeautifulSoup(req_in, 'html.parser')\n",
    "\n",
    "    in_lists=soup_in.select('.degree li .txt')\n",
    "    in_etc=soup_in.select('.degree li .etc')\n",
    "\n",
    "    for title, year in zip(in_lists, in_etc):\n",
    "        dic1={\n",
    "            'subpage_link':'http://www.riss.kr'+title.select('a')[0].get('href'),\n",
    "            'thesis_title':title.text.replace('\\n', ''),\n",
    "            'thesis_year':year.text.split('[')[1].split(']')[0],\n",
    "            'Gubun':'국내학술지논문'\n",
    "        }\n",
    "        in_link='http://www.riss.kr'+title.select('a')[0].get('href')\n",
    "        \n",
    "        in_title=title.text.replace('\\n', '')\n",
    "        in_year=year.text.split('[')[1]\n",
    "        in_year=in_year.split(']')[0]\n",
    "        thesis_infos.append(dic1)       \n",
    "        inner_links.append(in_link)\n",
    "        \n",
    "print(len(inner_links))"
   ]
  },
  {
   "cell_type": "code",
   "execution_count": null,
   "metadata": {},
   "outputs": [],
   "source": [
    "import selenium\n",
    "from selenium import webdriver\n",
    "from webdriver_manager.chrome import ChromeDriverManager\n",
    "import time\n",
    "\n",
    "# path = 'c:\\myPycode/mini_project/chromedriver.exe'\n",
    "wb = webdriver.Chrome(ChromeDriverManager().install())\n",
    "absb=[]\n",
    "for link in inner_links:\n",
    "    wb.get(link)\n",
    "#     time.sleep(0.1)\n",
    "    try:\n",
    "        a=[]\n",
    "        a.append(wb.find_elements_by_css_selector('#btnabs1'))\n",
    "        for i in a:\n",
    "            i[0].click()\n",
    "    except Exception as e:\n",
    "        print(e)\n",
    "        print('no1')\n",
    "    try:\n",
    "        b=[]\n",
    "        b.append(wb.find_elements_by_css_selector('#btnabs2'))\n",
    "        for j in b:\n",
    "            j[0].click()\n",
    "    except Exception as e2:\n",
    "        print(e2)\n",
    "        print('no2')\n",
    "    time.sleep(0.1)\n",
    "    texts=wb.find_elements_by_css_selector('.tt')\n",
    "    link_abs=''\n",
    "    for text in texts: \n",
    "        link_abs=link_abs+str(text.text)\n",
    "    absb.append(link_abs)\n",
    "\n",
    "    \n",
    "print(len(set(absb)))\n"
   ]
  }
 ],
 "metadata": {
  "kernelspec": {
   "display_name": "Python 3",
   "language": "python",
   "name": "python3"
  },
  "language_info": {
   "codemirror_mode": {
    "name": "ipython",
    "version": 3
   },
   "file_extension": ".py",
   "mimetype": "text/x-python",
   "name": "python",
   "nbconvert_exporter": "python",
   "pygments_lexer": "ipython3",
   "version": "3.6.9"
  }
 },
 "nbformat": 4,
 "nbformat_minor": 2
}
